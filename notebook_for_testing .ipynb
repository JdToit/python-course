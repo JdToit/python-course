{
 "cells": [
  {
   "cell_type": "markdown",
   "id": "2fb4bf6f",
   "metadata": {},
   "source": [
    "# this is all about dictionaries in python"
   ]
  },
  {
   "cell_type": "markdown",
   "id": "dc231931",
   "metadata": {},
   "source": [
    "we're learning about dictionaries s podskf "
   ]
  },
  {
   "cell_type": "code",
   "execution_count": 1,
   "id": "a3d083c9",
   "metadata": {},
   "outputs": [
    {
     "name": "stdout",
     "output_type": "stream",
     "text": [
      "2234666\n"
     ]
    }
   ],
   "source": [
    "print(2234666)"
   ]
  },
  {
   "cell_type": "code",
   "execution_count": 2,
   "id": "622f4a97",
   "metadata": {},
   "outputs": [],
   "source": [
    "x = {'bread':4, 'teabags':8, 'sugar':9}\n"
   ]
  },
  {
   "cell_type": "markdown",
   "id": "838ce742",
   "metadata": {},
   "source": [
    "For dictionary x, write a program which will subtract 1 from a value every time someone uses it."
   ]
  },
  {
   "cell_type": "markdown",
   "id": "ec5e6c61",
   "metadata": {},
   "source": [
    "get value\n",
    "if value is used\n",
    "print((value) - 1))\n",
    "else\n",
    "print(\"No change to stock\")"
   ]
  },
  {
   "cell_type": "code",
   "execution_count": 16,
   "id": "6b2cd040",
   "metadata": {},
   "outputs": [
    {
     "name": "stdout",
     "output_type": "stream",
     "text": [
      "Choose which item you would like to use:\n",
      "Press 1 for bread\n",
      "Press 2 for teabags\n",
      "Press 3 for sugar: 2\n",
      "Choose how many teabags you would like: 1\n",
      "\n",
      "You took 1 of teabags\n",
      "you left with 7 teabags\n"
     ]
    }
   ],
   "source": [
    "choice = int(input(\"Choose which item you would like to use:\\nPress 1 for bread\\nPress 2 for teabags\\nPress 3 for sugar: \"))\n",
    "\n",
    "\n",
    "if choice == 1:\n",
    "    choice = 'bread'\n",
    "    quantity = int(input(\"Choose how much bread you would like: \"))\n",
    "elif choice == 2:\n",
    "    choice = 'teabags'\n",
    "    quantity = int(input(\"Choose how many teabags you would like: \"))\n",
    "elif choice == 3:\n",
    "    choice = 'sugar'\n",
    "    quantity = int(input(\"Choose how many sugar bags you would like: \"))\n",
    "else:\n",
    "    print(\"No change to stock\")\n",
    "    \n",
    "if type(choice) == str:\n",
    "    if x[choice] < quantity:\n",
    "        print(f\"You do not have enough {choice}\")\n",
    "    elif x[choice] >= quantity:\n",
    "        n_value = x[choice] - quantity\n",
    "        x[choice] = n_value\n",
    "        \n",
    "\n",
    "\n",
    "        print(\"\")\n",
    "        print(f\"You took {quantity} of {choice}\")\n",
    "        print(f\"you left with {x[choice]} {choice}\")\n",
    "    "
   ]
  },
  {
   "cell_type": "code",
   "execution_count": null,
   "id": "980f722d",
   "metadata": {},
   "outputs": [],
   "source": []
  },
  {
   "cell_type": "code",
   "execution_count": 4,
   "id": "7d1daa2c",
   "metadata": {},
   "outputs": [
    {
     "data": {
      "text/plain": [
       "{'bread', 'sugar', 'teabags'}"
      ]
     },
     "execution_count": 4,
     "metadata": {},
     "output_type": "execute_result"
    }
   ],
   "source": [
    "v = 8\n",
    "y = {i[0] for i in x.items() if i[1] >= quantity}\n",
    "y"
   ]
  },
  {
   "cell_type": "code",
   "execution_count": 5,
   "id": "75c66406",
   "metadata": {},
   "outputs": [
    {
     "data": {
      "text/plain": [
       "(['10', '3', '7', '9', '1', 'thisk', True], [])"
      ]
     },
     "execution_count": 5,
     "metadata": {},
     "output_type": "execute_result"
    }
   ],
   "source": [
    "p = ['10', '3', '7', '9', '1', 'thisk', True]\n",
    "g = [str(i) for i in p if type(i) == int]\n",
    "\n",
    "\n",
    "\n",
    "p,g"
   ]
  },
  {
   "cell_type": "code",
   "execution_count": 6,
   "id": "8f0d281b",
   "metadata": {},
   "outputs": [
    {
     "data": {
      "text/plain": [
       "int"
      ]
     },
     "execution_count": 6,
     "metadata": {},
     "output_type": "execute_result"
    }
   ],
   "source": [
    "type(1)"
   ]
  },
  {
   "cell_type": "code",
   "execution_count": 7,
   "id": "434e5783",
   "metadata": {},
   "outputs": [
    {
     "name": "stdout",
     "output_type": "stream",
     "text": [
      "[20, 'hello', True, 120]\n",
      "[1, 2, 3, 4, 'good']\n",
      "['hello', 'goodbye', 'good day', 'good']\n",
      "[True, False, True, 'good']\n",
      "[20, 'hello', True, 120, 'good']\n",
      "{'a': [1, 2, 3, 4, 'good'], 'b': ['hello', 'goodbye', 'good day', 'good'], 'c': [True, False, True, 'good'], 6: [20, 'hello', True, 120, 'good']}\n"
     ]
    }
   ],
   "source": [
    "s_dic = {'a':[1, 2, 3, 4], 'b': [\"hello\", \"goodbye\", \"good day\"], 'c':[True, False, True], 6 : [20, \"hello\", True, 120]}\n",
    "\n",
    "print(s_dic[6])\n",
    "\n",
    "# loop through dictionary\n",
    "# find values \n",
    "# \n",
    "# and append the string good to each Value\n",
    "\n",
    "# outside the loop print the whole the dict\n",
    "\n",
    "for i in s_dic.items():\n",
    "    i[1].append('good')\n",
    "    print(i[1])\n",
    "\n",
    "print(s_dic)"
   ]
  },
  {
   "cell_type": "code",
   "execution_count": 8,
   "id": "44c0af88",
   "metadata": {},
   "outputs": [
    {
     "data": {
      "text/plain": [
       "[1, 2, 3, 4, 'good']"
      ]
     },
     "execution_count": 8,
     "metadata": {},
     "output_type": "execute_result"
    }
   ],
   "source": [
    "s_dic['a']"
   ]
  },
  {
   "cell_type": "code",
   "execution_count": 9,
   "id": "2d91520e",
   "metadata": {},
   "outputs": [
    {
     "name": "stdout",
     "output_type": "stream",
     "text": [
      "a\n",
      "b\n",
      "c\n",
      "6\n"
     ]
    }
   ],
   "source": [
    "for i in s_dic:\n",
    "    print(i)"
   ]
  },
  {
   "cell_type": "code",
   "execution_count": 10,
   "id": "c9b85c95",
   "metadata": {},
   "outputs": [
    {
     "name": "stdout",
     "output_type": "stream",
     "text": [
      "('a', [1, 2, 3, 4, 'good'])\n",
      "('b', ['hello', 'goodbye', 'good day', 'good'])\n",
      "('c', [True, False, True, 'good'])\n",
      "(6, [20, 'hello', True, 120, 'good'])\n"
     ]
    }
   ],
   "source": [
    "for i in s_dic.items():\n",
    "    print(i)"
   ]
  },
  {
   "cell_type": "code",
   "execution_count": null,
   "id": "f24d25a5",
   "metadata": {},
   "outputs": [],
   "source": []
  }
 ],
 "metadata": {
  "kernelspec": {
   "display_name": "Python 3 (ipykernel)",
   "language": "python",
   "name": "python3"
  },
  "language_info": {
   "codemirror_mode": {
    "name": "ipython",
    "version": 3
   },
   "file_extension": ".py",
   "mimetype": "text/x-python",
   "name": "python",
   "nbconvert_exporter": "python",
   "pygments_lexer": "ipython3",
   "version": "3.9.12"
  }
 },
 "nbformat": 4,
 "nbformat_minor": 5
}
