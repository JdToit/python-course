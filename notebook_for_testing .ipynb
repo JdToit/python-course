{
 "cells": [
  {
   "cell_type": "markdown",
   "id": "2fb4bf6f",
   "metadata": {},
   "source": [
    "# this is all about dictionaries in python"
   ]
  },
  {
   "cell_type": "markdown",
   "id": "dc231931",
   "metadata": {},
   "source": [
    "we're learning about dictionaries s podskf "
   ]
  },
  {
   "cell_type": "code",
   "execution_count": 1,
   "id": "a3d083c9",
   "metadata": {},
   "outputs": [
    {
     "name": "stdout",
     "output_type": "stream",
     "text": [
      "2234666\n"
     ]
    }
   ],
   "source": [
    "print(2234666)"
   ]
  },
  {
   "cell_type": "code",
   "execution_count": 2,
   "id": "622f4a97",
   "metadata": {},
   "outputs": [],
   "source": [
    "x = {'bread':4, 'teabags':8, 'sugar':9}\n"
   ]
  },
  {
   "cell_type": "markdown",
   "id": "838ce742",
   "metadata": {},
   "source": [
    "For dictionary x, write a program which will subtract 1 from a value every time someone uses it."
   ]
  },
  {
   "cell_type": "markdown",
   "id": "ec5e6c61",
   "metadata": {},
   "source": [
    "get value\n",
    "if value is used\n",
    "print((value) - 1))\n",
    "else\n",
    "print(\"No change to stock\")"
   ]
  },
  {
   "cell_type": "code",
   "execution_count": 16,
   "id": "6b2cd040",
   "metadata": {},
   "outputs": [
    {
     "name": "stdout",
     "output_type": "stream",
     "text": [
      "Choose which item you would like to use:\n",
      "Press 1 for bread\n",
      "Press 2 for teabags\n",
      "Press 3 for sugar: 2\n",
      "Choose how many teabags you would like: 1\n",
      "\n",
      "You took 1 of teabags\n",
      "you left with 7 teabags\n"
     ]
    }
   ],
   "source": [
    "choice = int(input(\"Choose which item you would like to use:\\nPress 1 for bread\\nPress 2 for teabags\\nPress 3 for sugar: \"))\n",
    "\n",
    "\n",
    "if choice == 1:\n",
    "    choice = 'bread'\n",
    "    quantity = int(input(\"Choose how much bread you would like: \"))\n",
    "elif choice == 2:\n",
    "    choice = 'teabags'\n",
    "    quantity = int(input(\"Choose how many teabags you would like: \"))\n",
    "elif choice == 3:\n",
    "    choice = 'sugar'\n",
    "    quantity = int(input(\"Choose how many sugar bags you would like: \"))\n",
    "else:\n",
    "    print(\"No change to stock\")\n",
    "    \n",
    "if type(choice) == str:\n",
    "    if x[choice] < quantity:\n",
    "        print(f\"You do not have enough {choice}\")\n",
    "    elif x[choice] >= quantity:\n",
    "        n_value = x[choice] - quantity\n",
    "        x[choice] = n_value\n",
    "        \n",
    "\n",
    "\n",
    "        print(\"\")\n",
    "        print(f\"You took {quantity} of {choice}\")\n",
    "        print(f\"you left with {x[choice]} {choice}\")\n",
    "    "
   ]
  },
  {
   "cell_type": "code",
   "execution_count": null,
   "id": "980f722d",
   "metadata": {},
   "outputs": [],
   "source": []
  },
  {
   "cell_type": "code",
   "execution_count": 4,
   "id": "7d1daa2c",
   "metadata": {},
   "outputs": [
    {
     "data": {
      "text/plain": [
       "{'bread', 'sugar', 'teabags'}"
      ]
     },
     "execution_count": 4,
     "metadata": {},
     "output_type": "execute_result"
    }
   ],
   "source": [
    "v = 8\n",
    "y = {i[0] for i in x.items() if i[1] >= quantity}\n",
    "y"
   ]
  },
  {
   "cell_type": "code",
   "execution_count": 5,
   "id": "75c66406",
   "metadata": {},
   "outputs": [
    {
     "data": {
      "text/plain": [
       "(['10', '3', '7', '9', '1', 'thisk', True], [])"
      ]
     },
     "execution_count": 5,
     "metadata": {},
     "output_type": "execute_result"
    }
   ],
   "source": [
    "p = ['10', '3', '7', '9', '1', 'thisk', True]\n",
    "g = [str(i) for i in p if type(i) == int]\n",
    "\n",
    "\n",
    "\n",
    "p,g"
   ]
  },
  {
   "cell_type": "code",
   "execution_count": 6,
   "id": "8f0d281b",
   "metadata": {},
   "outputs": [
    {
     "data": {
      "text/plain": [
       "int"
      ]
     },
     "execution_count": 6,
     "metadata": {},
     "output_type": "execute_result"
    }
   ],
   "source": [
    "type(1)"
   ]
  },
  {
   "cell_type": "code",
   "execution_count": 7,
   "id": "434e5783",
   "metadata": {},
   "outputs": [
    {
     "name": "stdout",
     "output_type": "stream",
     "text": [
      "[20, 'hello', True, 120]\n",
      "[1, 2, 3, 4, 'good']\n",
      "['hello', 'goodbye', 'good day', 'good']\n",
      "[True, False, True, 'good']\n",
      "[20, 'hello', True, 120, 'good']\n",
      "{'a': [1, 2, 3, 4, 'good'], 'b': ['hello', 'goodbye', 'good day', 'good'], 'c': [True, False, True, 'good'], 6: [20, 'hello', True, 120, 'good']}\n"
     ]
    }
   ],
   "source": [
    "s_dic = {'a':[1, 2, 3, 4], 'b': [\"hello\", \"goodbye\", \"good day\"], 'c':[True, False, True], 6 : [20, \"hello\", True, 120]}\n",
    "\n",
    "print(s_dic[6])\n",
    "\n",
    "# loop through dictionary\n",
    "# find values \n",
    "# \n",
    "# and append the string good to each Value\n",
    "\n",
    "# outside the loop print the whole the dict\n",
    "\n",
    "for i in s_dic.items():\n",
    "    i[1].append('good')\n",
    "    print(i[1])\n",
    "\n",
    "print(s_dic)"
   ]
  },
  {
   "cell_type": "code",
   "execution_count": 8,
   "id": "44c0af88",
   "metadata": {},
   "outputs": [
    {
     "data": {
      "text/plain": [
       "[1, 2, 3, 4, 'good']"
      ]
     },
     "execution_count": 8,
     "metadata": {},
     "output_type": "execute_result"
    }
   ],
   "source": [
    "s_dic['a']"
   ]
  },
  {
   "cell_type": "code",
   "execution_count": 9,
   "id": "2d91520e",
   "metadata": {},
   "outputs": [
    {
     "name": "stdout",
     "output_type": "stream",
     "text": [
      "a\n",
      "b\n",
      "c\n",
      "6\n"
     ]
    }
   ],
   "source": [
    "for i in s_dic:\n",
    "    print(i)"
   ]
  },
  {
   "cell_type": "code",
   "execution_count": 10,
   "id": "c9b85c95",
   "metadata": {},
   "outputs": [
    {
     "name": "stdout",
     "output_type": "stream",
     "text": [
      "('a', [1, 2, 3, 4, 'good'])\n",
      "('b', ['hello', 'goodbye', 'good day', 'good'])\n",
      "('c', [True, False, True, 'good'])\n",
      "(6, [20, 'hello', True, 120, 'good'])\n"
     ]
    }
   ],
   "source": [
    "for i in s_dic.items():\n",
    "    print(i)"
   ]
  },
  {
   "cell_type": "code",
   "execution_count": null,
   "id": "d6881cdf",
   "metadata": {},
   "outputs": [],
   "source": []
  },
  {
   "cell_type": "markdown",
   "id": "798be66f",
   "metadata": {},
   "source": [
    "# This is a 101 about functions"
   ]
  },
  {
   "cell_type": "code",
   "execution_count": 1,
   "id": "3464a25b",
   "metadata": {},
   "outputs": [
    {
     "name": "stdout",
     "output_type": "stream",
     "text": [
      "enter a number: 10\n",
      "enter a number: 10\n",
      "20\n"
     ]
    }
   ],
   "source": [
    "a = int(input(\"enter a number: \"))\n",
    "b = int(input(\"enter a number: \"))\n",
    "\n",
    "addition = (a + b)\n",
    "print(addition)"
   ]
  },
  {
   "cell_type": "code",
   "execution_count": 17,
   "id": "a83f5915",
   "metadata": {},
   "outputs": [
    {
     "name": "stdout",
     "output_type": "stream",
     "text": [
      "this the start\n",
      "enter a number: 8\n",
      "enter a number: 9\n",
      "we're here\n",
      "the first number cannot be less than the second number please try again\n",
      "this the start\n",
      "enter a number: 4\n",
      "enter a number: 2\n",
      "we're here\n"
     ]
    },
    {
     "ename": "UnboundLocalError",
     "evalue": "local variable 'addition' referenced before assignment",
     "output_type": "error",
     "traceback": [
      "\u001b[1;31m---------------------------------------------------------------------------\u001b[0m",
      "\u001b[1;31mUnboundLocalError\u001b[0m                         Traceback (most recent call last)",
      "Input \u001b[1;32mIn [17]\u001b[0m, in \u001b[0;36m<cell line: 20>\u001b[1;34m()\u001b[0m\n\u001b[0;32m     15\u001b[0m         addition \u001b[38;5;241m=\u001b[39m a \u001b[38;5;241m-\u001b[39m b\n\u001b[0;32m     18\u001b[0m     \u001b[38;5;28;01mreturn\u001b[39;00m addition\n\u001b[1;32m---> 20\u001b[0m \u001b[43msub_two_numbers\u001b[49m\u001b[43m(\u001b[49m\u001b[43m)\u001b[49m\n",
      "Input \u001b[1;32mIn [17]\u001b[0m, in \u001b[0;36msub_two_numbers\u001b[1;34m()\u001b[0m\n\u001b[0;32m     14\u001b[0m \u001b[38;5;28;01melse\u001b[39;00m:\n\u001b[0;32m     15\u001b[0m     addition \u001b[38;5;241m=\u001b[39m a \u001b[38;5;241m-\u001b[39m b\n\u001b[1;32m---> 18\u001b[0m \u001b[38;5;28;01mreturn\u001b[39;00m \u001b[43maddition\u001b[49m\n",
      "\u001b[1;31mUnboundLocalError\u001b[0m: local variable 'addition' referenced before assignment"
     ]
    }
   ],
   "source": [
    "def sub_two_numbers():\n",
    "    print(\"this the start\")\n",
    "    a = int(input(\"enter a number: \"))\n",
    "    b = int(input(\"enter a number: \"))\n",
    "    \n",
    "    print(\"we're here\")\n",
    "    \n",
    "    if a < b:\n",
    "        print(\"the first number cannot be less than the second number please try again\")\n",
    "        \n",
    "        sub_two_numbers()\n",
    "    \n",
    "    else:\n",
    "        addition = a - b\n",
    "    \n",
    "    \n",
    "    return addition\n",
    "\n",
    "sub_two_numbers()"
   ]
  },
  {
   "cell_type": "markdown",
   "id": "2529dd1c",
   "metadata": {},
   "source": [
    "a = \"this is me but, you are you. this is another setence. this is the last setence! \"\n",
    "\n",
    "a.strip('.')\n"
   ]
  },
  {
   "cell_type": "code",
   "execution_count": 42,
   "id": "57e55aa8",
   "metadata": {},
   "outputs": [
    {
     "data": {
      "text/plain": [
       "['this ', ' super ', ' test ', ' sentece']"
      ]
     },
     "execution_count": 42,
     "metadata": {},
     "output_type": "execute_result"
    }
   ],
   "source": [
    "a = \"this is me but, you are you. this is another setence. this is the last setence! \"\n",
    "\n",
    "def split_sentence(sentence):\n",
    "   \n",
    "    split_a = sentence.split('.')\n",
    "\n",
    "    return split_a\n",
    "\n",
    "split_sentence(\"this . super . test . sentece\")\n",
    "    \n",
    "    "
   ]
  },
  {
   "cell_type": "code",
   "execution_count": 37,
   "id": "6bedebc0",
   "metadata": {},
   "outputs": [],
   "source": [
    "# def name():\n",
    "    \n",
    "#     we do what do\n",
    "#     whaterver\n",
    "    \n",
    "#     return"
   ]
  },
  {
   "cell_type": "code",
   "execution_count": 44,
   "id": "b30ca44a",
   "metadata": {},
   "outputs": [],
   "source": [
    "class Car:\n",
    "    def __init__(wheels, body, color, engine):\n",
    "        \n",
    "        \n",
    "   \n",
    "    \n",
    "car1 = Car()"
   ]
  },
  {
   "cell_type": "code",
   "execution_count": 45,
   "id": "d5d45e0f",
   "metadata": {},
   "outputs": [
    {
     "data": {
      "text/plain": [
       "4"
      ]
     },
     "execution_count": 45,
     "metadata": {},
     "output_type": "execute_result"
    }
   ],
   "source": [
    "car1.wheel"
   ]
  },
  {
   "cell_type": "code",
   "execution_count": null,
   "id": "29d1ae68",
   "metadata": {},
   "outputs": [],
   "source": []
  }
 ],
 "metadata": {
  "kernelspec": {
   "display_name": "Python 3 (ipykernel)",
   "language": "python",
   "name": "python3"
  },
  "language_info": {
   "codemirror_mode": {
    "name": "ipython",
    "version": 3
   },
   "file_extension": ".py",
   "mimetype": "text/x-python",
   "name": "python",
   "nbconvert_exporter": "python",
   "pygments_lexer": "ipython3",
   "version": "3.9.12"
  }
 },
 "nbformat": 4,
 "nbformat_minor": 5
}
